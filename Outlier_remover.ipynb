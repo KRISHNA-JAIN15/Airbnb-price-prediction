{
 "cells": [
  {
   "cell_type": "code",
   "execution_count": 1,
   "metadata": {},
   "outputs": [],
   "source": [
    "import pandas as pd\n",
    "import numpy as np\n",
    "\n",
    "df = pd.read_csv('cleaned_data.csv')\n",
    "\n",
    "integer_columns = df.select_dtypes(include=['int']).columns\n",
    "\n",
    "def remove_outliers(df, col):\n",
    "    mean = df[col].mean()\n",
    "    std = df[col].std()\n",
    "    df = df[(df[col] >= mean - 3 * std) & (df[col] <= mean + 3 * std)]\n",
    "    return df\n",
    "\n",
    "for col in integer_columns:\n",
    "    df = remove_outliers(df, col)\n",
    "\n",
    "df.to_csv('cleaned_data_no_outliers.csv', index=False)\n"
   ]
  },
  {
   "cell_type": "code",
   "execution_count": 2,
   "metadata": {},
   "outputs": [],
   "source": [
    "df2 = pd.read_csv('cleaned_data_no_outliers.csv')\n"
   ]
  },
  {
   "cell_type": "code",
   "execution_count": 3,
   "metadata": {},
   "outputs": [
    {
     "name": "stdout",
     "output_type": "stream",
     "text": [
      "<class 'pandas.core.frame.DataFrame'>\n",
      "RangeIndex: 11160 entries, 0 to 11159\n",
      "Data columns (total 15 columns):\n",
      " #   Column          Non-Null Count  Dtype  \n",
      "---  ------          --------------  -----  \n",
      " 0   Unnamed: 0      11160 non-null  int64  \n",
      " 1   rating          11137 non-null  float64\n",
      " 2   reviews         11160 non-null  object \n",
      " 3   amenities       11160 non-null  object \n",
      " 4   house_rules     11160 non-null  object \n",
      " 5   price           11160 non-null  int64  \n",
      " 6   country         11160 non-null  object \n",
      " 7   bathrooms       11160 non-null  int64  \n",
      " 8   beds            11160 non-null  int64  \n",
      " 9   guests          11160 non-null  int64  \n",
      " 10  toilets         11160 non-null  int64  \n",
      " 11  bedrooms        11160 non-null  int64  \n",
      " 12  studios         11160 non-null  int64  \n",
      " 13  checkin_final   10465 non-null  object \n",
      " 14  checkout_final  9078 non-null   float64\n",
      "dtypes: float64(2), int64(8), object(5)\n",
      "memory usage: 1.3+ MB\n"
     ]
    }
   ],
   "source": [
    "df2.info()"
   ]
  }
 ],
 "metadata": {
  "kernelspec": {
   "display_name": "Python 3",
   "language": "python",
   "name": "python3"
  },
  "language_info": {
   "codemirror_mode": {
    "name": "ipython",
    "version": 3
   },
   "file_extension": ".py",
   "mimetype": "text/x-python",
   "name": "python",
   "nbconvert_exporter": "python",
   "pygments_lexer": "ipython3",
   "version": "3.11.7"
  }
 },
 "nbformat": 4,
 "nbformat_minor": 2
}
